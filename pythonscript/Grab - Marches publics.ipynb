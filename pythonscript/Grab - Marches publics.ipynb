{
 "cells": [
  {
   "cell_type": "markdown",
   "metadata": {},
   "source": [
    "# Grab - Marchés publics"
   ]
  },
  {
   "cell_type": "markdown",
   "metadata": {
    "collapsed": true
   },
   "source": [
    "## Sommaire"
   ]
  },
  {
   "cell_type": "markdown",
   "metadata": {},
   "source": [
    "## Environnement"
   ]
  },
  {
   "cell_type": "code",
   "execution_count": 7,
   "metadata": {
    "collapsed": true
   },
   "outputs": [],
   "source": [
    "import os\n",
    "import sys\n",
    "import time\n",
    "import datetime\n",
    "import re\n",
    "\n",
    "import yaml\n",
    "\n",
    "import lxml\n",
    "import lxml.html\n",
    "\n",
    "import selenium\n",
    "from selenium import webdriver\n",
    "from selenium.webdriver.common.keys import Keys\n"
   ]
  },
  {
   "cell_type": "markdown",
   "metadata": {},
   "source": [
    "[Sommaire](Sommaire)"
   ]
  },
  {
   "cell_type": "markdown",
   "metadata": {},
   "source": [
    "## Configuration"
   ]
  },
  {
   "cell_type": "code",
   "execution_count": 9,
   "metadata": {
    "collapsed": true
   },
   "outputs": [],
   "source": [
    "Yml_cfg = '''\n",
    "Ebp: \n",
    "    Grab:\n",
    "        keyword: Ixelles\n",
    "        date_from: 01/01/2015\n",
    "        date_to: 01/03/2015\n",
    "        type_not_implemented: ''\n",
    "        type_list :\n",
    "            - 'Appel d''offres général'\n",
    "            - 'Appel aux candidats'\n",
    "            - 'Attribution'\n",
    "            - 'Avis indicatif'\n",
    "            - 'Erratum - Rectification'\n",
    "            - 'Marché négocié'\n",
    "            - 'Procédure négociée directe avec publicité'\n",
    "    Send_to:\n",
    "        - blabla\n",
    "    Env:\n",
    "        web_site_public: http://www.ebp.be\n",
    "        web_site_private: 'https://abosl.ebp.be'\n",
    "        web_page_login: /Main/Login\n",
    "        web_page_logout: /Main/Logout\n",
    "        login_key: coophelmet@gmail.com\n",
    "        login_value: 86c40\n",
    "'''\n",
    "\n",
    "Cfg = None"
   ]
  },
  {
   "cell_type": "markdown",
   "metadata": {},
   "source": [
    "[Sommaire](Sommaire)"
   ]
  },
  {
   "cell_type": "markdown",
   "metadata": {},
   "source": [
    "## Log"
   ]
  },
  {
   "cell_type": "code",
   "execution_count": 13,
   "metadata": {
    "collapsed": false
   },
   "outputs": [],
   "source": [
    "def login(driver):\n",
    "    global Cfg\n",
    "    _str_page = '/Main/Login'\n",
    "    driver.get(\"https://abosl.ebp.be\" + _str_page)\n",
    "    \n",
    "    _cookies = driver.get_cookies()\n",
    "    \n",
    "    elm_username = driver.find_element_by_id(\"username\")\n",
    "    elm_username.send_keys(Cfg['Ebp']['Env']['login_key'])\n",
    "    \n",
    "    elm_password = driver.find_element_by_id(\"password\")\n",
    "    elm_password.send_keys(Cfg['Ebp']['Env']['login_value'])\n",
    "    \n",
    "    elm_remember = driver.find_element_by_id(\"remember\")\n",
    "    _b_is_checked = elm_remember.get_attribute(\"checked\")\n",
    "    if _b_is_checked != None or  _b_is_checked == 'true':\n",
    "        elm_remember.click()\n",
    "    _b_is_checked = elm_remember.get_attribute(\"checked\")\n",
    "    \n",
    "    elm_login = driver.find_element_by_id(\"login\")\n",
    "    elm_login.submit()\n",
    "\n",
    "    time.sleep(2)\n",
    "\n",
    "def main_login():\n",
    "    global Cfg\n",
    "    global Driver\n",
    "\n",
    "    Cfg = yaml.load(Yml_cfg)\n",
    "    Driver = webdriver.Firefox()\n",
    "    login(Driver)\n",
    "\n",
    "main_login()"
   ]
  },
  {
   "cell_type": "markdown",
   "metadata": {},
   "source": [
    "[Sommaire](Sommaire)"
   ]
  },
  {
   "cell_type": "code",
   "execution_count": 12,
   "metadata": {
    "collapsed": true
   },
   "outputs": [],
   "source": [
    "def logout(driver):\n",
    "    _str_page = '/Main/Logout'\n",
    "    driver.get(\"https://abosl.ebp.be\" + _str_page)\n",
    "\n",
    "logout(Driver)"
   ]
  },
  {
   "cell_type": "markdown",
   "metadata": {},
   "source": [
    "[Sommaire](Sommaire)"
   ]
  },
  {
   "cell_type": "markdown",
   "metadata": {},
   "source": [
    "## Search"
   ]
  },
  {
   "cell_type": "markdown",
   "metadata": {},
   "source": [
    "Effectue la recherche déterminée par la configuration"
   ]
  },
  {
   "cell_type": "code",
   "execution_count": 14,
   "metadata": {
    "collapsed": true
   },
   "outputs": [],
   "source": [
    "def search(driver, str_keyword=None, str_date_from=None, str_date_to=None):\n",
    "    global Cfg\n",
    "    \n",
    "    driver.get(\"https://abosl.ebp.be/Search\")\n",
    "    # Mots-clés\n",
    "    _elm = driver.find_element_by_id(\"Keywords\")\n",
    "    if str_keyword != None:\n",
    "        _elm.send_keys(str_keyword)\n",
    "    else:\n",
    "        _elm.send_keys(Cfg['Ebp']['Grab']['keyword'])\n",
    "    # dans le texte complet \n",
    "    _lst_elm = driver.find_elements_by_name(\"PublicationTextPartId\")\n",
    "    for _elm in _lst_elm:\n",
    "        _str_att = _elm.get_attribute('value')\n",
    "        if _str_att == '1':\n",
    "            _elm.click()\n",
    "            break\n",
    "\n",
    "    # Date de publication entre\n",
    "    _elm = driver.find_element_by_id(\"DateFrom\")\n",
    "    _elm.clear();\n",
    "    if str_date_from != None:\n",
    "        _elm.send_keys(str_date_from)\n",
    "    else:\n",
    "        _elm.send_keys(Cfg['Ebp']['Grab']['date_from'])\n",
    "    _elm = driver.find_element_by_id(\"DateTo\")\n",
    "    _elm.clear();\n",
    "    if str_date_to != None:\n",
    "        _elm.send_keys(str_date_to)\n",
    "    else:\n",
    "        _elm.send_keys(Cfg['Ebp']['Grab']['date_to'])\n",
    "\n",
    "    # Rechercher dans\n",
    "    _lst_elm = driver.find_elements_by_name(\"PublicationDatabase\")\n",
    "    for _elm in _lst_elm:\n",
    "        _str_att = _elm.get_attribute('value')\n",
    "        if _str_att == '2':\n",
    "            _elm.click()\n",
    "            break\n",
    "   \n",
    "    _elm = driver.find_element_by_id(\"search\")\n",
    "    _elm.submit()\n",
    "    \n",
    "    time.sleep(2)\n",
    "    \n",
    "    #print(driver.page_source)\n",
    "    \n",
    "search(Driver)"
   ]
  },
  {
   "cell_type": "markdown",
   "metadata": {},
   "source": [
    "[Sommaire](Sommaire)"
   ]
  },
  {
   "cell_type": "markdown",
   "metadata": {},
   "source": [
    "## Détails"
   ]
  },
  {
   "cell_type": "markdown",
   "metadata": {},
   "source": [
    "Fenêtre détails"
   ]
  },
  {
   "cell_type": "code",
   "execution_count": 16,
   "metadata": {
    "collapsed": false
   },
   "outputs": [
    {
     "name": "stdout",
     "output_type": "stream",
     "text": [
      "b'<tr role=\"row\" class=\"even\">\\n  <td class=\" text-center dt-noborder\">\\n    <input type=\"checkbox\" name=\"chkPublication\" value=\"11615889\"/>\\n    <input type=\"hidden\" value=\"0\" class=\"dt-taskid\"/>\\n  </td>\\n  <td class=\" text-center dt-noborder\">\\n    <img data-isread=\"false\" data-publicationid=\"11615889\" class=\"icon read-icon\" alt=\"\" title=\"Non lu\" data-toggle=\"tooltip\" src=\"/Content/images/PubUnread.png\"/>\\n    <br/>\\n    <img class=\"icon\" alt=\"\" title=\"Mot(s) cl&#233;(s) trouv&#233;(s)\" data-toggle=\"tooltip\" src=\"/Content/images/staron.png\"/>\\n    <br/>\\n    <img data-content=\"Vous pouvez initier une demande, et nous estimons la probabilit&#233; qu\\'un document soit disponible comme &#233;tant forte.\" data-html=\"true\" data-original-title=\"\" data-toggle=\"popover\" rel=\"colorclip\" alt=\"\" src=\"/Content/images/DCE_N.png\"/>\\n    <br/>\\n  </td>\\n  <td class=\" text-center\"><img alt=\"\" src=\"/Content/images/PublicationBulletinTypeId001.png\"/><br/>BdA 52</td>\\n  <td class=\" text-right\">505045</td>\\n  <td class=\"dt-date sorting_1\">27/02/15</td>\\n  <td>Appel d\\'offres g&#233;n&#233;ral</td>\\n  <td class=\" dt-description\">\\n    <b>Minist&#232;re de la Communaut&#233; fran&#231;aise - Administration g&#233;n&#233;rale de l\\'Infrastructure - Direction r&#233;gio</b>\\n    <p class=\"dt-desc\">March&#233; de service pour la r&#233;novation de l\\'&#233;cole fondamentale les CLEMENTINES (Laeken).</p>\\n    <p class=\"dt-classes\">Classes : Agr&#233;a non requise</p>\\n    <p class=\"dt-publicationrelation\">\\n      <a target=\"_blank\" href=\"/Details/500933762/11621854\" class=\"publication-relation-link\">Rectification [BdA]</a>\\n    </p>\\n  </td>\\n  <td>BXL</td>\\n  <td>BE</td>\\n  <td class=\" dt-date\">22/04/15</td>\\n</tr>\\n'\n",
      "b'<a target=\"_blank\" href=\"/Details/500933762/11621854\" class=\"publication-relation-link\">Rectification [BdA]</a>\\n'\n"
     ]
    }
   ],
   "source": [
    "def get_detail(driver):\n",
    "    # columns\n",
    "    # . .   Source    Annonce    Date    Type    Description    Régions    Pays    Date limite\n",
    "    \n",
    "    _str_page =  driver.page_source\n",
    "    _el_block_last = lxml.html.fromstring(_str_page)\n",
    "    \n",
    "    \n",
    "    _str_type = \"Appel d'offres général\"\n",
    "    _str_xpath_rows = '''.//table[@id='publication-list']//tr[td[position()=6 and contains(text(), \"%(type)s\")]]''' % {'type': _str_type}\n",
    "    _str_xpath_a = '''.//a[@class='publication-relation-link']'''\n",
    "\n",
    "    \n",
    "    _str_page =  driver.page_source\n",
    "    _el_page = lxml.html.fromstring(_str_page)\n",
    "    _el_rows =_el_page.xpath(_str_xpath_rows)\n",
    "    for _el_row in _el_rows\n",
    "        print(lxml.etree.tostring(_el_rows[0], pretty_print=True))\n",
    "        _el_as =_el_rows[0].xpath(_str_xpath_a\n",
    "        for _el_a in _el_as:\n",
    "            print(lxml.etree.tostring(_el_as[0], pretty_print=True))\n",
    "    \n",
    "get_detail(Driver)"
   ]
  },
  {
   "cell_type": "code",
   "execution_count": null,
   "metadata": {
    "collapsed": true
   },
   "outputs": [],
   "source": [
    "[Sommaire](Sommaire)"
   ]
  },
  {
   "cell_type": "markdown",
   "metadata": {},
   "source": [
    "## Authentification"
   ]
  },
  {
   "cell_type": "markdown",
   "metadata": {},
   "source": [
    "Cookies ?"
   ]
  },
  {
   "cell_type": "code",
   "execution_count": 5,
   "metadata": {
    "collapsed": false
   },
   "outputs": [
    {
     "name": "stdout",
     "output_type": "stream",
     "text": [
      "_rqs_status_code 200\n",
      "_rqs_headers_content_type text/html; charset=utf-8\n",
      "_rqs_encoding utf-8\n",
      "_rqs_text \r\n",
      "<!DOCTYPE html>\r\n",
      "<!--[if lt IE 9]><html class=\"ie\" lang=\"en-US\"><![endif]-->\r\n",
      "<!--[if gt IE 9]><!-->\r\n",
      "<html lang=\"en-US\">\r\n",
      "<!--<![endif]-->\r\n",
      "<head>\r\n",
      "    <meta http-equiv=\"Content-Type\" content=\"text/html; charset=UTF-8\" />\r\n",
      "    <meta name=\"viewport\" content=\"width=device-width, initial-scale=1\" />\r\n",
      "    <title>EBP | Login</title>\r\n",
      "    <link rel=\"shortcut icon\" type=\"image/x-icon\" href=\"/Content/images/FaviconDiv001.ico\" />\r\n",
      "    <link href=\"/common?v=a1hgRnpzGZqkiJby_cbarqHEKgrDlUEXEWrUZ1aBS7w1\" rel=\"stylesheet\"/>\r\n",
      "\r\n",
      "\r\n",
      "        <link rel=\"stylesheet\" href=\"/Content/less/ebp.min.css?v=2.8.4\" />\r\n",
      "    <!--[if lt IE 9]><script type=\"text/javascript\" src=\"/Scripts/respond.min.js\"></script><![endif]-->\r\n",
      "    <script src=\"//ajax.googleapis.com/ajax/libs/jquery/1.11.2/jquery.min.js\"></script>\r\n",
      "    <script src=\"/Scripts/bootstrap.min.js\"></script>\r\n",
      "    <script src=\"/Scripts/jquery.dataTables-1.10.4.min.js\"></script>\r\n",
      "    <!--[if lte IE 9]><script type=\"text/javascript\" src=\"/Scripts/jquery.placeholder.min.js\"></script><![endif]-->\r\n",
      "    <script src=\"/Scripts/SubscriptionWebResxLib.js?v=2.8.4\"></script>\r\n",
      "    <script src=\"/Scripts/common.min.js?v=2.8.4\"></script>\r\n",
      "    <!--[if lte IE 9]><script type=\"text/javascript\" src=\"/Scripts/selectivizr-1.0.3b.min.js\"></script><![endif]-->\r\n",
      "</head>\r\n",
      "<body>\r\n",
      "    \r\n",
      "\r\n",
      "\r\n",
      "<div class=\"col-md-4 col-md-offset-4\">\r\n",
      "<form action=\"/Main/Login\" class=\"form-signin\" method=\"post\"><input name=\"__RequestVerificationToken\" type=\"hidden\" value=\"gIppCVA1dqBepQjk--26wbTBsngHaTSRiiNZgX5kjnrmcBggiS6tIbN9Jq9J4eclOrbXJ3LduvEJEhwTDQx6vFE8Ljw1\" />        <div class=\"text-center\">\r\n",
      "                <img id=\"logo\" src=\"/Content/images/CroppedLogoDiv001.png\" alt=\"logo\" style=\"margin:0 auto\" />\r\n",
      "        </div>\r\n",
      "        <div class=\"panel panel-default\">\r\n",
      "            <div class=\"panel-heading\">Login</div>\r\n",
      "            <div class=\"panel-body\">\r\n",
      "                <br />\r\n",
      "                <div class=\"form-group\">\r\n",
      "                    <input class=\"form-control\" type=\"text\" name=\"username\" id=\"username\" placeholder=\"Email Address\">\r\n",
      "                    <input class=\"form-control\" type=\"password\" name=\"password\" id=\"password\" placeholder=\"Password\">\r\n",
      "                </div>\r\n",
      "\r\n",
      "                <div class=\"checkbox\">\r\n",
      "                    <label>\r\n",
      "                        <input type=\"checkbox\" name=\"remember\" id=\"remember\" checked=\"checked\">\r\n",
      "                        Remember me\r\n",
      "                    </label>\r\n",
      "                </div>\r\n",
      "                <div class=\"row\">\r\n",
      "                    <div class=\"col-xs-6\">\r\n",
      "                        <button type=\"submit\" class=\"btn btn-sm btn-primary\" id=\"login\">Login</button>\r\n",
      "                    </div>\r\n",
      "                    <div class=\"col-xs-6\">\r\n",
      "                        <p class=\"text-right\"><a href=\"/Main/RequestPasswordReset\">Forgot username or password?</a></p>\r\n",
      "                    </div>\r\n",
      "                </div>\r\n",
      "                <div class=\"row\">\r\n",
      "                    <div class=\"col-xs-12\">\r\n",
      "                        <p class=\"text-center\">\r\n",
      "                            \r\n",
      "                        </p>\r\n",
      "                    </div>\r\n",
      "                </div>\r\n",
      "            </div>\r\n",
      "        </div>\r\n",
      "</form></div>\r\n",
      "<div class=\"modal\" id=\"wait-screen\" data-backdrop=\"static\" data-keyboard=\"false\">\r\n",
      "    <div class=\"modal-dialog modal-sm\">\r\n",
      "        <div class=\"modal-content\">\r\n",
      "            <div class=\"modal-header\">\r\n",
      "                <button type=\"button\" class=\"close\" data-dismiss=\"modal\" aria-hidden=\"true\">&times;</button>\r\n",
      "                <h4 class=\"modal-title\">Please wait...</h4>\r\n",
      "            </div>\r\n",
      "            <div class=\"modal-body\">\r\n",
      "                <p>\r\n",
      "                    <img src=\"/Content/images/loader.gif\" alt=\"loading\" />&nbsp;&nbsp;<span></span>\r\n",
      "                </p>\r\n",
      "            </div>\r\n",
      "        </div>\r\n",
      "    </div>\r\n",
      "</div>\r\n",
      "\r\n",
      "<div class=\"modal\" id=\"error-message-modal\" data-backdrop=\"static\" data-keyboard=\"false\">\r\n",
      "    <div class=\"modal-dialog\">\r\n",
      "        <div class=\"modal-content\">\r\n",
      "            <div class=\"modal-header\">\r\n",
      "                <button type=\"button\" class=\"close\" data-dismiss=\"modal\" aria-hidden=\"true\">&times;</button>\r\n",
      "                <h4 class=\"modal-title\">Error</h4>\r\n",
      "            </div>\r\n",
      "            <div class=\"modal-body\">\r\n",
      "                <p class=\"alert alert-danger\"></p>\r\n",
      "            </div>\r\n",
      "        </div>\r\n",
      "    </div>\r\n",
      "</div>\r\n",
      "\r\n",
      "    <div class=\"footer hidden-print\">\r\n",
      "        EBP sprl - 3 Box 6, Avenue Bourg. E. Demunter - B-1090 Brussels - Tel.: 02/420 68 60 - Fax: 02/791 96 75 -\r\n",
      "            <a href=\"mailto:customer.care@ebp.be\">customer.care@ebp.be</a> <small>(version 2.8.4)</small>\r\n",
      "    </div>\r\n",
      "    <script src=\"/Scripts/layout_footer.min.js?v=2.8.4\"></script>\r\n",
      "\r\n",
      "\r\n",
      "    <script>\r\n",
      "        (function (i, s, o, g, r, a, m) {\r\n",
      "            i['GoogleAnalyticsObject'] = r; i[r] = i[r] || function () {\r\n",
      "                (i[r].q = i[r].q || []).push(arguments)\r\n",
      "            }, i[r].l = 1 * new Date(); a = s.createElement(o),\r\n",
      "            m = s.getElementsByTagName(o)[0]; a.async = 1; a.src = g; m.parentNode.insertBefore(a, m)\r\n",
      "        })(window, document, 'script', '//www.google-analytics.com/analytics.js', 'ga');\r\n",
      "        ga('create', 'UA-56384933-1', 'auto');\r\n",
      "        ga('send', 'pageview');\r\n",
      "    </script>\r\n",
      "\r\n",
      "    \r\n",
      "</body>\r\n",
      "</html>\n",
      "_rqs_cookies <RequestsCookieJar[<Cookie __RequestVerificationToken=SnJFe02jaZCKKXFmXkIVeT0IZIsneT8tEnRHFHHoU6lIfQZ5KDd1ExoWSC-ZkMXl_q7_BuPFMP6J_JLd7SyhfneJ6LA1 for abosl.ebp.be/>]>\n"
     ]
    }
   ],
   "source": [
    "import requests\n",
    "\n",
    "Str_login_key = 'coophelmet@gmail.com'\n",
    "Str_login_value = '86c40'\n",
    "    \n",
    "Str_web_site = 'www.ebp.be'\n",
    "Str_web_page_login =  'https://abosl.ebp.be/Main/Login'\n",
    "    \n",
    "_rqs = requests.get(Str_web_page_login) # auth=(Str_login_key, Str_login_value))\n",
    "_rqs_status_code = _rqs.status_code\n",
    "print('_rqs_status_code', _rqs_status_code)\n",
    "_rqs_headers_content_type = _rqs.headers['content-type']\n",
    "print('_rqs_headers_content_type', _rqs_headers_content_type)\n",
    "_rqs_encoding = _rqs.encoding\n",
    "print('_rqs_encoding', _rqs_encoding)\n",
    "_rqs_text = _rqs.text\n",
    "print('_rqs_text', _rqs_text)\n",
    "#_rqs_json = _rqs.json()\n",
    "#print(_rqs_json)\n",
    "_rqs_cookies = _rqs.cookies\n",
    "print('_rqs_cookies', _rqs_cookies)\n",
    "\n",
    "_str_form_action = '/Main/Login\"'\n",
    "# gIppCVA1dqBepQjk--26wbTBsngHaTSRiiNZgX5kjnrmcBggiS6tIbN9Jq9J4eclOrbXJ3LduvEJEhwTDQx6vFE8Ljw1\n",
    "_str_form__RequestVerificationToken = ''\n",
    "_str_form_name_id_username = Str_login_key\n",
    "_str_form_name_id_password = Str_login_value\n",
    "_str_form_name_id_remember = 'on'\n",
    "_str_form_submit_id = 'login'\n",
    "\n",
    "# SnJFe02jaZCKKXFmXkIVeT0IZIsneT8tEnRHFHHoU6lIfQZ5KDd1ExoWSC-ZkMXl_q7_BuPFMP6J_JLd7SyhfneJ6LA1\n",
    "str_cookie__RequestVerificationToken = ''"
   ]
  },
  {
   "cell_type": "markdown",
   "metadata": {},
   "source": [
    "## Recherche"
   ]
  },
  {
   "cell_type": "markdown",
   "metadata": {},
   "source": [
    "Page = "
   ]
  },
  {
   "cell_type": "markdown",
   "metadata": {},
   "source": [
    "## Sélection"
   ]
  },
  {
   "cell_type": "code",
   "execution_count": null,
   "metadata": {
    "collapsed": false
   },
   "outputs": [],
   "source": [
    "qsdf"
   ]
  },
  {
   "cell_type": "markdown",
   "metadata": {},
   "source": [
    "## Téléchargement"
   ]
  },
  {
   "cell_type": "code",
   "execution_count": null,
   "metadata": {
    "collapsed": false
   },
   "outputs": [],
   "source": [
    "qsdf"
   ]
  }
 ],
 "metadata": {
  "kernelspec": {
   "display_name": "Python 3",
   "language": "python",
   "name": "python3"
  },
  "language_info": {
   "codemirror_mode": {
    "name": "ipython",
    "version": 3
   },
   "file_extension": ".py",
   "mimetype": "text/x-python",
   "name": "python",
   "nbconvert_exporter": "python",
   "pygments_lexer": "ipython3",
   "version": "3.4.3"
  }
 },
 "nbformat": 4,
 "nbformat_minor": 0
}
